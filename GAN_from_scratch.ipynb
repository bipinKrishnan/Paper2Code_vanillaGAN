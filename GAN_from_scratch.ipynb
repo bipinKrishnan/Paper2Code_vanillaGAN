{
  "nbformat": 4,
  "nbformat_minor": 0,
  "metadata": {
    "colab": {
      "name": "GAN_from_scratch.ipynb",
      "provenance": [],
      "collapsed_sections": [],
      "authorship_tag": "ABX9TyOoykEoatWL0mn4OzyUlpIM",
      "include_colab_link": true
    },
    "kernelspec": {
      "name": "python3",
      "display_name": "Python 3"
    },
    "accelerator": "GPU",
    "widgets": {
      "application/vnd.jupyter.widget-state+json": {
        "8031a07c0ead49b58ac3ac4b3cf10825": {
          "model_module": "@jupyter-widgets/controls",
          "model_name": "HBoxModel",
          "state": {
            "_view_name": "HBoxView",
            "_dom_classes": [],
            "_model_name": "HBoxModel",
            "_view_module": "@jupyter-widgets/controls",
            "_model_module_version": "1.5.0",
            "_view_count": null,
            "_view_module_version": "1.5.0",
            "box_style": "",
            "layout": "IPY_MODEL_cb6aab64ec2c400b8609cd9e171a320a",
            "_model_module": "@jupyter-widgets/controls",
            "children": [
              "IPY_MODEL_d52e86f7fb72422d8ac2414841ae9cae",
              "IPY_MODEL_863ce55d15ba40a0a56df2795a10c80b"
            ]
          }
        },
        "cb6aab64ec2c400b8609cd9e171a320a": {
          "model_module": "@jupyter-widgets/base",
          "model_name": "LayoutModel",
          "state": {
            "_view_name": "LayoutView",
            "grid_template_rows": null,
            "right": null,
            "justify_content": null,
            "_view_module": "@jupyter-widgets/base",
            "overflow": null,
            "_model_module_version": "1.2.0",
            "_view_count": null,
            "flex_flow": null,
            "width": null,
            "min_width": null,
            "border": null,
            "align_items": null,
            "bottom": null,
            "_model_module": "@jupyter-widgets/base",
            "top": null,
            "grid_column": null,
            "overflow_y": null,
            "overflow_x": null,
            "grid_auto_flow": null,
            "grid_area": null,
            "grid_template_columns": null,
            "flex": null,
            "_model_name": "LayoutModel",
            "justify_items": null,
            "grid_row": null,
            "max_height": null,
            "align_content": null,
            "visibility": null,
            "align_self": null,
            "height": null,
            "min_height": null,
            "padding": null,
            "grid_auto_rows": null,
            "grid_gap": null,
            "max_width": null,
            "order": null,
            "_view_module_version": "1.2.0",
            "grid_template_areas": null,
            "object_position": null,
            "object_fit": null,
            "grid_auto_columns": null,
            "margin": null,
            "display": null,
            "left": null
          }
        },
        "d52e86f7fb72422d8ac2414841ae9cae": {
          "model_module": "@jupyter-widgets/controls",
          "model_name": "FloatProgressModel",
          "state": {
            "_view_name": "ProgressView",
            "style": "IPY_MODEL_89716e5700784cb5abb03e3378bacab6",
            "_dom_classes": [],
            "description": "100%",
            "_model_name": "FloatProgressModel",
            "bar_style": "success",
            "max": 500,
            "_view_module": "@jupyter-widgets/controls",
            "_model_module_version": "1.5.0",
            "value": 500,
            "_view_count": null,
            "_view_module_version": "1.5.0",
            "orientation": "horizontal",
            "min": 0,
            "description_tooltip": null,
            "_model_module": "@jupyter-widgets/controls",
            "layout": "IPY_MODEL_1794cec8a68641ecbfae74370a44576c"
          }
        },
        "863ce55d15ba40a0a56df2795a10c80b": {
          "model_module": "@jupyter-widgets/controls",
          "model_name": "HTMLModel",
          "state": {
            "_view_name": "HTMLView",
            "style": "IPY_MODEL_1ac408b5f0e9489f8684a65e68d26091",
            "_dom_classes": [],
            "description": "",
            "_model_name": "HTMLModel",
            "placeholder": "​",
            "_view_module": "@jupyter-widgets/controls",
            "_model_module_version": "1.5.0",
            "value": " 500/500 [01:48&lt;00:00,  4.62it/s]",
            "_view_count": null,
            "_view_module_version": "1.5.0",
            "description_tooltip": null,
            "_model_module": "@jupyter-widgets/controls",
            "layout": "IPY_MODEL_0be295df0f314f1c8a2557f8b728e228"
          }
        },
        "89716e5700784cb5abb03e3378bacab6": {
          "model_module": "@jupyter-widgets/controls",
          "model_name": "ProgressStyleModel",
          "state": {
            "_view_name": "StyleView",
            "_model_name": "ProgressStyleModel",
            "description_width": "initial",
            "_view_module": "@jupyter-widgets/base",
            "_model_module_version": "1.5.0",
            "_view_count": null,
            "_view_module_version": "1.2.0",
            "bar_color": null,
            "_model_module": "@jupyter-widgets/controls"
          }
        },
        "1794cec8a68641ecbfae74370a44576c": {
          "model_module": "@jupyter-widgets/base",
          "model_name": "LayoutModel",
          "state": {
            "_view_name": "LayoutView",
            "grid_template_rows": null,
            "right": null,
            "justify_content": null,
            "_view_module": "@jupyter-widgets/base",
            "overflow": null,
            "_model_module_version": "1.2.0",
            "_view_count": null,
            "flex_flow": null,
            "width": null,
            "min_width": null,
            "border": null,
            "align_items": null,
            "bottom": null,
            "_model_module": "@jupyter-widgets/base",
            "top": null,
            "grid_column": null,
            "overflow_y": null,
            "overflow_x": null,
            "grid_auto_flow": null,
            "grid_area": null,
            "grid_template_columns": null,
            "flex": null,
            "_model_name": "LayoutModel",
            "justify_items": null,
            "grid_row": null,
            "max_height": null,
            "align_content": null,
            "visibility": null,
            "align_self": null,
            "height": null,
            "min_height": null,
            "padding": null,
            "grid_auto_rows": null,
            "grid_gap": null,
            "max_width": null,
            "order": null,
            "_view_module_version": "1.2.0",
            "grid_template_areas": null,
            "object_position": null,
            "object_fit": null,
            "grid_auto_columns": null,
            "margin": null,
            "display": null,
            "left": null
          }
        },
        "1ac408b5f0e9489f8684a65e68d26091": {
          "model_module": "@jupyter-widgets/controls",
          "model_name": "DescriptionStyleModel",
          "state": {
            "_view_name": "StyleView",
            "_model_name": "DescriptionStyleModel",
            "description_width": "",
            "_view_module": "@jupyter-widgets/base",
            "_model_module_version": "1.5.0",
            "_view_count": null,
            "_view_module_version": "1.2.0",
            "_model_module": "@jupyter-widgets/controls"
          }
        },
        "0be295df0f314f1c8a2557f8b728e228": {
          "model_module": "@jupyter-widgets/base",
          "model_name": "LayoutModel",
          "state": {
            "_view_name": "LayoutView",
            "grid_template_rows": null,
            "right": null,
            "justify_content": null,
            "_view_module": "@jupyter-widgets/base",
            "overflow": null,
            "_model_module_version": "1.2.0",
            "_view_count": null,
            "flex_flow": null,
            "width": null,
            "min_width": null,
            "border": null,
            "align_items": null,
            "bottom": null,
            "_model_module": "@jupyter-widgets/base",
            "top": null,
            "grid_column": null,
            "overflow_y": null,
            "overflow_x": null,
            "grid_auto_flow": null,
            "grid_area": null,
            "grid_template_columns": null,
            "flex": null,
            "_model_name": "LayoutModel",
            "justify_items": null,
            "grid_row": null,
            "max_height": null,
            "align_content": null,
            "visibility": null,
            "align_self": null,
            "height": null,
            "min_height": null,
            "padding": null,
            "grid_auto_rows": null,
            "grid_gap": null,
            "max_width": null,
            "order": null,
            "_view_module_version": "1.2.0",
            "grid_template_areas": null,
            "object_position": null,
            "object_fit": null,
            "grid_auto_columns": null,
            "margin": null,
            "display": null,
            "left": null
          }
        }
      }
    }
  },
  "cells": [
    {
      "cell_type": "markdown",
      "metadata": {
        "id": "view-in-github",
        "colab_type": "text"
      },
      "source": [
        "<a href=\"https://colab.research.google.com/github/bipinKrishnan/Paper2Code_vanillaGAN/blob/master/GAN_from_scratch.ipynb\" target=\"_parent\"><img src=\"https://colab.research.google.com/assets/colab-badge.svg\" alt=\"Open In Colab\"/></a>"
      ]
    },
    {
      "cell_type": "code",
      "metadata": {
        "id": "YU8Z97ybZ1li",
        "colab_type": "code",
        "colab": {}
      },
      "source": [
        "import torch\n",
        "from torch import nn\n",
        "from torch import optim\n",
        "from torchvision.transforms import transforms\n",
        "import numpy as np\n",
        "from PIL import Image\n",
        "import matplotlib.pyplot as plt\n",
        "\n",
        "from tqdm.notebook import tqdm\n",
        "import warnings\n",
        "warnings.filterwarnings(\"ignore\")"
      ],
      "execution_count": 265,
      "outputs": []
    },
    {
      "cell_type": "code",
      "metadata": {
        "id": "bXM2N4y3oPkR",
        "colab_type": "code",
        "colab": {
          "base_uri": "https://localhost:8080/",
          "height": 283
        },
        "outputId": "b1f9b7d5-eada-4cb6-d2e7-99ceba8b8454"
      },
      "source": [
        "transform = transforms.Compose([\n",
        "                                transforms.Resize((32, 32)),\n",
        "                                transforms.ToTensor()\n",
        "])\n",
        "\n",
        "flat_img = 3072\n",
        "\n",
        "img = Image.open('truck.jpeg')\n",
        "real_img = transform(img)\n",
        "plt.imshow(np.transpose(real_img.numpy(), (1, 2, 0)))\n",
        "print(real_img.size())"
      ],
      "execution_count": 2,
      "outputs": [
        {
          "output_type": "stream",
          "text": [
            "torch.Size([3, 32, 32])\n"
          ],
          "name": "stdout"
        },
        {
          "output_type": "display_data",
          "data": {
            "image/png": "[encoded data removed]",
            "text/plain": [
              "<Figure size 432x288 with 1 Axes>"
            ]
          },
          "metadata": {
            "tags": [],
            "needs_background": "light"
          }
        }
      ]
    },
    {
      "cell_type": "code",
      "metadata": {
        "id": "deH4ILop8VZg",
        "colab_type": "code",
        "colab": {}
      },
      "source": [
        "torch.manual_seed(2)\n",
        "\n",
        "fake_img = torch.rand(1, 100)\n",
        "fake_img.size(), fake_img.min(), fake_img.max()"
      ],
      "execution_count": null,
      "outputs": []
    },
    {
      "cell_type": "code",
      "metadata": {
        "id": "HX_YZZnA9Mw7",
        "colab_type": "code",
        "colab": {}
      },
      "source": [
        "class Discriminator(nn.Module):\n",
        "  def __init__(self):\n",
        "    super().__init__()\n",
        "    self.linear = nn.Sequential(\n",
        "        nn.Linear(flat_img, 10000),\n",
        "        nn.ReLU(),\n",
        "        nn.Linear(10000, 1),\n",
        "        nn.Sigmoid()\n",
        "    )\n",
        "\n",
        "  def forward(self, img):\n",
        "    img = img.view(1, -1)\n",
        "    out = self.linear(img)\n",
        "\n",
        "    return out"
      ],
      "execution_count": 273,
      "outputs": []
    },
    {
      "cell_type": "code",
      "metadata": {
        "id": "43VID_8SAdkx",
        "colab_type": "code",
        "colab": {}
      },
      "source": [
        "class Generator(nn.Module):\n",
        "  def __init__(self):\n",
        "    super().__init__()\n",
        "    self.linear = nn.Sequential(\n",
        "        nn.Linear(100, 10000),\n",
        "        nn.LeakyReLU(),\n",
        "        nn.Linear(10000, 4000),\n",
        "        nn.LeakyReLU(),\n",
        "        nn.Linear(4000, flat_img)\n",
        "    )\n",
        "\n",
        "  def forward(self, latent_space):\n",
        "    latent_space = latent_space.view(1, -1)\n",
        "    out = self.linear(latent_space)\n",
        "\n",
        "    return out"
      ],
      "execution_count": 274,
      "outputs": []
    },
    {
      "cell_type": "code",
      "metadata": {
        "id": "gW9xiUHMBTTY",
        "colab_type": "code",
        "colab": {}
      },
      "source": [
        "device = 'cuda:0' if torch.cuda.is_available() else 'cpu'\n",
        "\n",
        "discr = Discriminator().to(device)\n",
        "gen = Generator().to(device)"
      ],
      "execution_count": 275,
      "outputs": []
    },
    {
      "cell_type": "code",
      "metadata": {
        "id": "oT-ZSt0xBt0z",
        "colab_type": "code",
        "colab": {}
      },
      "source": [
        "opt_d = optim.SGD(discr.parameters(), lr=0.001, momentum=0.9)\n",
        "opt_g = optim.SGD(gen.parameters(), lr=0.001, momentum=0.9)\n",
        "\n",
        "criterion = nn.BCELoss()"
      ],
      "execution_count": 276,
      "outputs": []
    },
    {
      "cell_type": "code",
      "metadata": {
        "id": "_qQF03W6CDyo",
        "colab_type": "code",
        "colab": {
          "base_uri": "https://localhost:8080/",
          "height": 66,
          "referenced_widgets": [
            "8031a07c0ead49b58ac3ac4b3cf10825",
            "cb6aab64ec2c400b8609cd9e171a320a",
            "d52e86f7fb72422d8ac2414841ae9cae",
            "863ce55d15ba40a0a56df2795a10c80b",
            "89716e5700784cb5abb03e3378bacab6",
            "1794cec8a68641ecbfae74370a44576c",
            "1ac408b5f0e9489f8684a65e68d26091",
            "0be295df0f314f1c8a2557f8b728e228"
          ]
        },
        "outputId": "059d1566-f570-4a2a-baa3-af06e2e8d0fd"
      },
      "source": [
        "epochs = 500\n",
        "discr_e = 4\n",
        "gen_e = 3\n",
        "\n",
        "for epoch in tqdm(range(epochs), total=epochs):\n",
        "\n",
        "  for k in range(discr_e):\n",
        "    opt_d.zero_grad()\n",
        "\n",
        "    out_d1 = discr(real_img.to(device))\n",
        "    loss_d1 = criterion(out_d1, torch.ones((1, 1)).to(device))\n",
        "    loss_d1.backward()\n",
        "\n",
        "    out_d2 = gen(fake_img.to(device)).detach()\n",
        "    loss_d2 = criterion(discr(out_d2.to(device)), torch.zeros((1, 1)).to(device))\n",
        "    loss_d2.backward()\n",
        "\n",
        "    opt_d.step()\n",
        "\n",
        "  for i in range(gen_e):\n",
        "    opt_g.zero_grad()\n",
        "    \n",
        "    out_g = gen(fake_img.to(device))\n",
        "    #loss_g =  criterion(discr(out_g.to(device)), torch.ones(1, 1).to(device))\n",
        "\n",
        "    #----Loss function in the GAN paper\n",
        "    loss_g = 1.0 - (discr(out_g.to(device))) \n",
        "    loss_g.backward()\n",
        "\n",
        "    opt_g.step()    "
      ],
      "execution_count": 277,
      "outputs": [
        {
          "output_type": "display_data",
          "data": {
            "application/vnd.jupyter.widget-view+json": {
              "model_id": "8031a07c0ead49b58ac3ac4b3cf10825",
              "version_minor": 0,
              "version_major": 2
            },
            "text/plain": [
              "HBox(children=(FloatProgress(value=0.0, max=500.0), HTML(value='')))"
            ]
          },
          "metadata": {
            "tags": []
          }
        },
        {
          "output_type": "stream",
          "text": [
            "\n"
          ],
          "name": "stdout"
        }
      ]
    },
    {
      "cell_type": "code",
      "metadata": {
        "id": "UHYb_F_AMJRD",
        "colab_type": "code",
        "colab": {
          "base_uri": "https://localhost:8080/",
          "height": 287
        },
        "outputId": "82c60753-53fa-4c0f-c94b-a648eb1e0bd6"
      },
      "source": [
        "plt.figure(figsize=(8, 8))\n",
        "\n",
        "plt.subplot(1, 2, 1)\n",
        "plt.imshow(np.transpose(out_g.resize(3, 32, 32).cpu().detach().numpy(), (1, 2, 0)))\n",
        "\n",
        "plt.subplot(1, 2, 2)\n",
        "plt.imshow(np.transpose(real_img.numpy(), (1, 2, 0)))"
      ],
      "execution_count": 278,
      "outputs": [
        {
          "output_type": "stream",
          "text": [
            "Clipping input data to the valid range for imshow with RGB data ([0..1] for floats or [0..255] for integers).\n"
          ],
          "name": "stderr"
        },
        {
          "output_type": "execute_result",
          "data": {
            "text/plain": [
              "<matplotlib.image.AxesImage at 0x7f8f1bc6e198>"
            ]
          },
          "metadata": {
            "tags": []
          },
          "execution_count": 278
        },
        {
          "output_type": "display_data",
          "data": {
            "image/png": "[encoded data removed]",
            "text/plain": [
              "<Figure size 576x576 with 2 Axes>"
            ]
          },
          "metadata": {
            "tags": [],
            "needs_background": "light"
          }
        }
      ]
    },
    {
      "cell_type": "code",
      "metadata": {
        "id": "YORpTjp_aqZw",
        "colab_type": "code",
        "colab": {}
      },
      "source": [
        ""
      ],
      "execution_count": null,
      "outputs": []
    }
  ]
}